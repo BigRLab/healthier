{
 "cells": [
  {
   "cell_type": "code",
   "execution_count": 1,
   "metadata": {
    "collapsed": false
   },
   "outputs": [],
   "source": [
    "from django import setup\n",
    "setup()"
   ]
  },
  {
   "cell_type": "code",
   "execution_count": 2,
   "metadata": {
    "collapsed": true
   },
   "outputs": [],
   "source": [
    "from django.utils import timezone\n",
    "from entries.models import Entry, Nutrient"
   ]
  },
  {
   "cell_type": "code",
   "execution_count": 3,
   "metadata": {
    "collapsed": true
   },
   "outputs": [],
   "source": [
    "e1 = Entry(when=timezone.now(), what=\"something 4\", quantity=2, category=\"c\", measure=\"g\")"
   ]
  },
  {
   "cell_type": "code",
   "execution_count": 4,
   "metadata": {
    "collapsed": false
   },
   "outputs": [
    {
     "data": {
      "text/plain": [
       "126"
      ]
     },
     "execution_count": 4,
     "metadata": {},
     "output_type": "execute_result"
    }
   ],
   "source": [
    "e1.save()\n",
    "e1.id"
   ]
  },
  {
   "cell_type": "code",
   "execution_count": 5,
   "metadata": {
    "collapsed": true
   },
   "outputs": [],
   "source": [
    "i1 = Nutrient()"
   ]
  },
  {
   "cell_type": "code",
   "execution_count": 6,
   "metadata": {
    "collapsed": true
   },
   "outputs": [],
   "source": [
    "i1.label = \"sugar\"\n",
    "i1.unit = \"g\"\n",
    "i1.category = \"i\"\n",
    "i1.quantity = 4"
   ]
  },
  {
   "cell_type": "code",
   "execution_count": 7,
   "metadata": {
    "collapsed": false
   },
   "outputs": [
    {
     "data": {
      "text/plain": [
       "{'quantity__sum': 1.32}"
      ]
     },
     "execution_count": 7,
     "metadata": {},
     "output_type": "execute_result"
    }
   ],
   "source": [
    "from django.db.models import Sum, Count\n",
    "Nutrient.objects.filter(category=\"o\").aggregate(Sum(\"quantity\"))"
   ]
  },
  {
   "cell_type": "markdown",
   "metadata": {},
   "source": [
    "## Reporting"
   ]
  },
  {
   "cell_type": "code",
   "execution_count": 3,
   "metadata": {
    "collapsed": true
   },
   "outputs": [],
   "source": [
    "from django.db.models.functions import TruncDay, TruncDate\n",
    "from django.db.models import Sum, Count"
   ]
  },
  {
   "cell_type": "code",
   "execution_count": 4,
   "metadata": {
    "collapsed": false
   },
   "outputs": [
    {
     "name": "stdout",
     "output_type": "stream",
     "text": [
      "(<Arrow [2016-11-16T00:00:00+00:00]>, <Arrow [2016-12-06T23:59:59+00:00]>)\n"
     ]
    }
   ],
   "source": [
    "import arrow\n",
    "start_date = arrow.get(\"2016-11-16\")\n",
    "end_date = arrow.get(\"2016-12-06 23:59:59\")\n",
    "print(start_date, end_date)"
   ]
  },
  {
   "cell_type": "code",
   "execution_count": null,
   "metadata": {
    "collapsed": true
   },
   "outputs": [],
   "source": [
    "e1 = Entry(\n",
    "    when=timezone.now(), \n",
    "    what=\"something 4\", \n",
    "    quantity=2, \n",
    "    category=Entry.CATEGORIES.FOOD_CONSUMPTION, \n",
    "    measure=\"g\")\n",
    "e1.save()\n",
    "\n",
    "e2 = Entry(\n",
    "    when=timezone.now(), \n",
    "    what=\"something 4\", \n",
    "    quantity=2, \n",
    "    category=Entry.CATEGORIES.PHYSICAL_ACTIVITY, \n",
    "    measure=\"g\")\n",
    "\n",
    "e2.save()"
   ]
  },
  {
   "cell_type": "code",
   "execution_count": null,
   "metadata": {
    "collapsed": false
   },
   "outputs": [],
   "source": [
    "e1n1 = Nutrient.objects.create(\n",
    "    entry=e1,\n",
    "    category=Nutrient.CATEGORIES.INTAKE,\n",
    "    label=\"Energy\",\n",
    "    unit=\"kcal\",\n",
    "    quantity=140.5\n",
    ")\n",
    "\n",
    "e2n1 = Nutrient.objects.create(\n",
    "    entry=e1,\n",
    "    category=Nutrient.CATEGORIES.OUTTAKE,\n",
    "    label=\"Energy\",\n",
    "    unit=\"kcal\",\n",
    "    quantity=10.5\n",
    ")\n",
    "\n"
   ]
  },
  {
   "cell_type": "code",
   "execution_count": 6,
   "metadata": {
    "collapsed": false
   },
   "outputs": [
    {
     "data": {
      "text/plain": [
       "{datetime.date(2016, 11, 16): 0,\n",
       " datetime.date(2016, 11, 17): 0,\n",
       " datetime.date(2016, 11, 18): 0,\n",
       " datetime.date(2016, 11, 19): 0,\n",
       " datetime.date(2016, 11, 20): 0,\n",
       " datetime.date(2016, 11, 21): 0,\n",
       " datetime.date(2016, 11, 22): 0,\n",
       " datetime.date(2016, 11, 23): 0,\n",
       " datetime.date(2016, 11, 24): 0,\n",
       " datetime.date(2016, 11, 25): 0,\n",
       " datetime.date(2016, 11, 26): 0,\n",
       " datetime.date(2016, 11, 27): 0,\n",
       " datetime.date(2016, 11, 28): 0,\n",
       " datetime.date(2016, 11, 29): 0,\n",
       " datetime.date(2016, 11, 30): 90.0,\n",
       " datetime.date(2016, 12, 1): 28.0,\n",
       " datetime.date(2016, 12, 2): 0,\n",
       " datetime.date(2016, 12, 3): 0,\n",
       " datetime.date(2016, 12, 4): 0,\n",
       " datetime.date(2016, 12, 5): 0,\n",
       " datetime.date(2016, 12, 6): 0,\n",
       " datetime.date(2016, 12, 7): 0}"
      ]
     },
     "execution_count": 6,
     "metadata": {},
     "output_type": "execute_result"
    }
   ],
   "source": [
    "Nutrient.get_energy_report(\n",
    "    Nutrient.CATEGORIES.INTAKE, \n",
    "    timezone.make_aware(start_date.naive), \n",
    "    timezone.make_aware(arrow.utcnow().naive))"
   ]
  },
  {
   "cell_type": "code",
   "execution_count": 59,
   "metadata": {
    "collapsed": false
   },
   "outputs": [
    {
     "data": {
      "text/plain": [
       "[(datetime.date(2016, 11, 16), 0),\n",
       " (datetime.date(2016, 11, 17), 0),\n",
       " (datetime.date(2016, 11, 18), 0),\n",
       " (datetime.date(2016, 11, 19), 0),\n",
       " (datetime.date(2016, 11, 20), 0),\n",
       " (datetime.date(2016, 11, 21), 0),\n",
       " (datetime.date(2016, 11, 22), 0),\n",
       " (datetime.date(2016, 11, 23), 0),\n",
       " (datetime.date(2016, 11, 24), 0),\n",
       " (datetime.date(2016, 11, 25), 0),\n",
       " (datetime.date(2016, 11, 26), 0),\n",
       " (datetime.date(2016, 11, 27), 0),\n",
       " (datetime.date(2016, 11, 28), 0),\n",
       " (datetime.date(2016, 11, 29), 0),\n",
       " (datetime.date(2016, 11, 30), 0),\n",
       " (datetime.date(2016, 12, 1), 0),\n",
       " (datetime.date(2016, 12, 2), 1.32),\n",
       " (datetime.date(2016, 12, 3), 0),\n",
       " (datetime.date(2016, 12, 4), 0),\n",
       " (datetime.date(2016, 12, 5), 0),\n",
       " (datetime.date(2016, 12, 6), 12.5)]"
      ]
     },
     "execution_count": 59,
     "metadata": {},
     "output_type": "execute_result"
    }
   ],
   "source": [
    "report = Nutrient.get_energy_report(\n",
    "    Nutrient.CATEGORIES.OUTTAKE, \n",
    "    timezone.make_aware(start_date.naive), \n",
    "    timezone.make_aware(end_date.naive))\n",
    "\n",
    "sorted(report.items())"
   ]
  },
  {
   "cell_type": "code",
   "execution_count": 38,
   "metadata": {
    "collapsed": false
   },
   "outputs": [],
   "source": [
    "a = (end_date - start_date)"
   ]
  },
  {
   "cell_type": "code",
   "execution_count": 52,
   "metadata": {
    "collapsed": false
   },
   "outputs": [
    {
     "name": "stdout",
     "output_type": "stream",
     "text": [
      "SELECT \"entries_nutrient\".\"label\", \"entries_nutrient\".\"unit\", SUM(\"entries_nutrient\".\"quantity\") AS \"value\" FROM \"entries_nutrient\" GROUP BY \"entries_nutrient\".\"label\", \"entries_nutrient\".\"unit\"\n",
      "{'value': 13.82, 'unit': u'kcal', 'label': u'Energy'}\n",
      "{'value': 8.0, 'unit': u'mg', 'label': u'fat'}\n"
     ]
    }
   ],
   "source": [
    "records = Nutrient.objects.values(\"label\", \"unit\").annotate(value=Sum(\"quantity\"))\n",
    "print(records.query.__str__())\n",
    "for i in records:\n",
    "    print(i)\n"
   ]
  },
  {
   "cell_type": "code",
   "execution_count": 24,
   "metadata": {
    "collapsed": false
   },
   "outputs": [],
   "source": [
    "e2n1 = Nutrient.objects.create(\n",
    "    entry=e1,\n",
    "    category=Nutrient.CATEGORIES.OUTTAKE,\n",
    "    label=\"fat\",\n",
    "    unit=\"mg\",\n",
    "    quantity=3\n",
    ")\n"
   ]
  },
  {
   "cell_type": "code",
   "execution_count": 43,
   "metadata": {
    "collapsed": false
   },
   "outputs": [],
   "source": [
    "nutrients = Nutrient.objects.filter(\n",
    "        category=\"o\",\n",
    "        entry__when__range=[timezone.make_aware(start_date.naive), \n",
    "            timezone.make_aware(end_date.naive)]\n",
    "    ).values(\n",
    "        \"label\", \"unit\"\n",
    "    ).annotate(\n",
    "        value=Sum(\"quantity\")\n",
    "    )"
   ]
  },
  {
   "cell_type": "code",
   "execution_count": 42,
   "metadata": {
    "collapsed": false
   },
   "outputs": [
    {
     "data": {
      "text/plain": [
       "u'SELECT \"entries_nutrient\".\"label\", \"entries_nutrient\".\"unit\", SUM(\"entries_nutrient\".\"quantity\") AS \"value\" FROM \"entries_nutrient\" INNER JOIN \"entries_entry\" ON (\"entries_nutrient\".\"entry_id\" = \"entries_entry\".\"id\") WHERE (\"entries_nutrient\".\"category\" = o AND \"entries_entry\".\"when\" BETWEEN 2016-11-16 00:00:00 AND 2016-12-06 23:59:59) GROUP BY \"entries_nutrient\".\"label\", \"entries_nutrient\".\"unit\"'"
      ]
     },
     "execution_count": 42,
     "metadata": {},
     "output_type": "execute_result"
    }
   ],
   "source": [
    "nutrients.query.__str__()"
   ]
  },
  {
   "cell_type": "code",
   "execution_count": null,
   "metadata": {
    "collapsed": true
   },
   "outputs": [],
   "source": [
    "\n",
    "    @classmethod\n",
    "    def get_nutrients_report(cls, start_date, end_date):\n",
    "        nutrients = Nutrient.objects.filter(\n",
    "            category=cls.CATEGORIES.INTAKE,\n",
    "            entry__when__range=[start_date, end_date]\n",
    "        ).values(\n",
    "            \"label\", \"unit\"\n",
    "        ).annotate(\n",
    "            value=Sum(\"quantity\")\n",
    "        )\n",
    "        return nutrients"
   ]
  },
  {
   "cell_type": "code",
   "execution_count": 67,
   "metadata": {
    "collapsed": false
   },
   "outputs": [
    {
     "data": {
      "text/plain": [
       "{datetime.datetime(2016, 11, 16, 0, 0, tzinfo=tzutc()): 0,\n",
       " datetime.datetime(2016, 11, 17, 0, 0, tzinfo=tzutc()): 0,\n",
       " datetime.datetime(2016, 11, 18, 0, 0, tzinfo=tzutc()): 0,\n",
       " datetime.datetime(2016, 11, 19, 0, 0, tzinfo=tzutc()): 0,\n",
       " datetime.datetime(2016, 11, 20, 0, 0, tzinfo=tzutc()): 0,\n",
       " datetime.datetime(2016, 11, 21, 0, 0, tzinfo=tzutc()): 0,\n",
       " datetime.datetime(2016, 11, 22, 0, 0, tzinfo=tzutc()): 0,\n",
       " datetime.datetime(2016, 11, 23, 0, 0, tzinfo=tzutc()): 0,\n",
       " datetime.datetime(2016, 11, 24, 0, 0, tzinfo=tzutc()): 0,\n",
       " datetime.datetime(2016, 11, 25, 0, 0, tzinfo=tzutc()): 0,\n",
       " datetime.datetime(2016, 11, 26, 0, 0, tzinfo=tzutc()): 0,\n",
       " datetime.datetime(2016, 11, 27, 0, 0, tzinfo=tzutc()): 0,\n",
       " datetime.datetime(2016, 11, 28, 0, 0, tzinfo=tzutc()): 0,\n",
       " datetime.datetime(2016, 11, 29, 0, 0, tzinfo=tzutc()): 0,\n",
       " datetime.datetime(2016, 11, 30, 0, 0, tzinfo=tzutc()): 0,\n",
       " datetime.datetime(2016, 12, 1, 0, 0, tzinfo=tzutc()): 0,\n",
       " datetime.datetime(2016, 12, 2, 0, 0, tzinfo=tzutc()): 0,\n",
       " datetime.datetime(2016, 12, 3, 0, 0, tzinfo=tzutc()): 0,\n",
       " datetime.datetime(2016, 12, 4, 0, 0, tzinfo=tzutc()): 0,\n",
       " datetime.datetime(2016, 12, 5, 0, 0, tzinfo=tzutc()): 0,\n",
       " datetime.datetime(2016, 12, 6, 0, 0, tzinfo=tzutc()): 0}"
      ]
     },
     "execution_count": 67,
     "metadata": {},
     "output_type": "execute_result"
    }
   ],
   "source": [
    "def create_time_series(start_date, end_date):\n",
    "    \"\"\"\n",
    "    creates a time series sequence taken at successive daily spaced points\n",
    "    between start_date end end_date\n",
    "\n",
    "    Args:\n",
    "        start_date:\n",
    "        end_date:\n",
    "\n",
    "    Returns:\n",
    "\n",
    "    \"\"\"\n",
    "    current_date = arrow.get(start_date)\n",
    "    end_date = arrow.get(end_date)\n",
    "    data = {}\n",
    "\n",
    "    while current_date <= end_date:\n",
    "        data[current_date.datetime] = 0\n",
    "        current_date = current_date.replace(days=1)\n",
    "\n",
    "    return data\n",
    "create_time_series(start_date, end_date)"
   ]
  },
  {
   "cell_type": "code",
   "execution_count": 77,
   "metadata": {
    "collapsed": false
   },
   "outputs": [
    {
     "name": "stdout",
     "output_type": "stream",
     "text": [
      "2016-12-02 15:23:03+00:00\n",
      "2016-12-06 15:24:36.147835+00:00\n"
     ]
    }
   ],
   "source": [
    "data = create_time_series(start_date, end_date)\n",
    "\n",
    "records = Nutrient.objects.filter(\n",
    "    label=\"Energy\",\n",
    "    unit=\"kcal\",\n",
    "    category=\"o\",\n",
    "    entry__when__range=[timezone.make_aware(start_date.naive), timezone.make_aware(end_date.naive)]\n",
    ").annotate(\n",
    "    date=TruncDate(\"entry__when\"),\n",
    ").values(\n",
    "    \"date\"\n",
    ").annotate(\n",
    "    value=Sum('quantity')\n",
    ").values(\n",
    "    \"date\", \"value\", \"entry__when\"\n",
    ")\n",
    "\n",
    "for i in records:\n",
    "    data[i[\"date\"]] = i[\"value\"]\n",
    "    print(i[\"entry__when\"])"
   ]
  },
  {
   "cell_type": "code",
   "execution_count": 81,
   "metadata": {
    "collapsed": false
   },
   "outputs": [
    {
     "ename": "ValueError",
     "evalue": "Not naive datetime (tzinfo is already set)",
     "output_type": "error",
     "traceback": [
      "\u001b[0;31m---------------------------------------------------------------------------\u001b[0m",
      "\u001b[0;31mValueError\u001b[0m                                Traceback (most recent call last)",
      "\u001b[0;32m<ipython-input-81-c4f779229b6c>\u001b[0m in \u001b[0;36m<module>\u001b[0;34m()\u001b[0m\n\u001b[0;32m----> 1\u001b[0;31m \u001b[0mtimezone\u001b[0m\u001b[0;34m.\u001b[0m\u001b[0mmake_aware\u001b[0m\u001b[0;34m(\u001b[0m\u001b[0mstart_date\u001b[0m\u001b[0;34m.\u001b[0m\u001b[0mdatetime\u001b[0m\u001b[0;34m)\u001b[0m\u001b[0;34m\u001b[0m\u001b[0m\n\u001b[0m",
      "\u001b[0;32m/Users/muatik/venv/lib/python2.7/site-packages/django/utils/timezone.pyc\u001b[0m in \u001b[0;36mmake_aware\u001b[0;34m(value, timezone, is_dst)\u001b[0m\n\u001b[1;32m    366\u001b[0m     \u001b[0;32mif\u001b[0m \u001b[0mhasattr\u001b[0m\u001b[0;34m(\u001b[0m\u001b[0mtimezone\u001b[0m\u001b[0;34m,\u001b[0m \u001b[0;34m'localize'\u001b[0m\u001b[0;34m)\u001b[0m\u001b[0;34m:\u001b[0m\u001b[0;34m\u001b[0m\u001b[0m\n\u001b[1;32m    367\u001b[0m         \u001b[0;31m# This method is available for pytz time zones.\u001b[0m\u001b[0;34m\u001b[0m\u001b[0;34m\u001b[0m\u001b[0m\n\u001b[0;32m--> 368\u001b[0;31m         \u001b[0;32mreturn\u001b[0m \u001b[0mtimezone\u001b[0m\u001b[0;34m.\u001b[0m\u001b[0mlocalize\u001b[0m\u001b[0;34m(\u001b[0m\u001b[0mvalue\u001b[0m\u001b[0;34m,\u001b[0m \u001b[0mis_dst\u001b[0m\u001b[0;34m=\u001b[0m\u001b[0mis_dst\u001b[0m\u001b[0;34m)\u001b[0m\u001b[0;34m\u001b[0m\u001b[0m\n\u001b[0m\u001b[1;32m    369\u001b[0m     \u001b[0;32melse\u001b[0m\u001b[0;34m:\u001b[0m\u001b[0;34m\u001b[0m\u001b[0m\n\u001b[1;32m    370\u001b[0m         \u001b[0;31m# Check that we won't overwrite the timezone of an aware datetime.\u001b[0m\u001b[0;34m\u001b[0m\u001b[0;34m\u001b[0m\u001b[0m\n",
      "\u001b[0;32m/Users/muatik/venv/lib/python2.7/site-packages/pytz/__init__.pyc\u001b[0m in \u001b[0;36mlocalize\u001b[0;34m(self, dt, is_dst)\u001b[0m\n\u001b[1;32m    224\u001b[0m         \u001b[0;34m'''Convert naive time to local time'''\u001b[0m\u001b[0;34m\u001b[0m\u001b[0m\n\u001b[1;32m    225\u001b[0m         \u001b[0;32mif\u001b[0m \u001b[0mdt\u001b[0m\u001b[0;34m.\u001b[0m\u001b[0mtzinfo\u001b[0m \u001b[0;32mis\u001b[0m \u001b[0;32mnot\u001b[0m \u001b[0mNone\u001b[0m\u001b[0;34m:\u001b[0m\u001b[0;34m\u001b[0m\u001b[0m\n\u001b[0;32m--> 226\u001b[0;31m             \u001b[0;32mraise\u001b[0m \u001b[0mValueError\u001b[0m\u001b[0;34m(\u001b[0m\u001b[0;34m'Not naive datetime (tzinfo is already set)'\u001b[0m\u001b[0;34m)\u001b[0m\u001b[0;34m\u001b[0m\u001b[0m\n\u001b[0m\u001b[1;32m    227\u001b[0m         \u001b[0;32mreturn\u001b[0m \u001b[0mdt\u001b[0m\u001b[0;34m.\u001b[0m\u001b[0mreplace\u001b[0m\u001b[0;34m(\u001b[0m\u001b[0mtzinfo\u001b[0m\u001b[0;34m=\u001b[0m\u001b[0mself\u001b[0m\u001b[0;34m)\u001b[0m\u001b[0;34m\u001b[0m\u001b[0m\n\u001b[1;32m    228\u001b[0m \u001b[0;34m\u001b[0m\u001b[0m\n",
      "\u001b[0;31mValueError\u001b[0m: Not naive datetime (tzinfo is already set)"
     ]
    }
   ],
   "source": [
    "timezone.make_aware(start_date.datetime)"
   ]
  },
  {
   "cell_type": "code",
   "execution_count": 83,
   "metadata": {
    "collapsed": false
   },
   "outputs": [
    {
     "data": {
      "text/plain": [
       "datetime.datetime(2016, 11, 16, 0, 0, tzinfo=tzutc())"
      ]
     },
     "execution_count": 83,
     "metadata": {},
     "output_type": "execute_result"
    }
   ],
   "source": [
    "start_date.datetime"
   ]
  },
  {
   "cell_type": "code",
   "execution_count": null,
   "metadata": {
    "collapsed": true
   },
   "outputs": [],
   "source": []
  }
 ],
 "metadata": {
  "kernelspec": {
   "display_name": "Python 2",
   "language": "python",
   "name": "python2"
  },
  "language_info": {
   "codemirror_mode": {
    "name": "ipython",
    "version": 2
   },
   "file_extension": ".py",
   "mimetype": "text/x-python",
   "name": "python",
   "nbconvert_exporter": "python",
   "pygments_lexer": "ipython2",
   "version": "2.7.10"
  }
 },
 "nbformat": 4,
 "nbformat_minor": 1
}
