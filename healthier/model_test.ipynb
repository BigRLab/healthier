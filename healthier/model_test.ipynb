{
 "cells": [
  {
   "cell_type": "code",
   "execution_count": 1,
   "metadata": {
    "collapsed": false
   },
   "outputs": [],
   "source": [
    "from django import setup\n",
    "setup()"
   ]
  },
  {
   "cell_type": "code",
   "execution_count": 2,
   "metadata": {
    "collapsed": false
   },
   "outputs": [],
   "source": [
    "from django.utils import timezone\n",
    "from entries.models import Entry, Nutrient"
   ]
  },
  {
   "cell_type": "code",
   "execution_count": 62,
   "metadata": {
    "collapsed": true
   },
   "outputs": [],
   "source": [
    "e1 = Entry(when=timezone.now(), what=\"something 4\", quantity=2, category=\"c\", measure=\"g\")"
   ]
  },
  {
   "cell_type": "code",
   "execution_count": 4,
   "metadata": {
    "collapsed": false
   },
   "outputs": [
    {
     "data": {
      "text/plain": [
       "126"
      ]
     },
     "execution_count": 4,
     "metadata": {},
     "output_type": "execute_result"
    }
   ],
   "source": [
    "e1.save()\n",
    "e1.id"
   ]
  },
  {
   "cell_type": "code",
   "execution_count": 5,
   "metadata": {
    "collapsed": true
   },
   "outputs": [],
   "source": [
    "i1 = Nutrient()"
   ]
  },
  {
   "cell_type": "code",
   "execution_count": 6,
   "metadata": {
    "collapsed": true
   },
   "outputs": [],
   "source": [
    "i1.label = \"sugar\"\n",
    "i1.unit = \"g\"\n",
    "i1.category = \"i\"\n",
    "i1.quantity = 4"
   ]
  },
  {
   "cell_type": "code",
   "execution_count": 3,
   "metadata": {
    "collapsed": false
   },
   "outputs": [
    {
     "data": {
      "text/plain": [
       "{'quantity__sum': 132.0}"
      ]
     },
     "execution_count": 3,
     "metadata": {},
     "output_type": "execute_result"
    }
   ],
   "source": [
    "from django.db.models import Sum, Count\n",
    "Nutrient.objects.filter(category=\"o\").aggregate(Sum(\"quantity\"))"
   ]
  },
  {
   "cell_type": "markdown",
   "metadata": {},
   "source": [
    "## Reporting"
   ]
  },
  {
   "cell_type": "code",
   "execution_count": 4,
   "metadata": {
    "collapsed": false
   },
   "outputs": [],
   "source": [
    "from django.db.models.functions import TruncDay, TruncDate\n",
    "from django.db.models import Sum, Count"
   ]
  },
  {
   "cell_type": "code",
   "execution_count": 5,
   "metadata": {
    "collapsed": false
   },
   "outputs": [
    {
     "name": "stdout",
     "output_type": "stream",
     "text": [
      "2016-11-16T00:00:00+00:00 2016-12-06T23:59:59+00:00\n"
     ]
    }
   ],
   "source": [
    "import arrow\n",
    "start_date = arrow.get(\"2016-11-16\")\n",
    "end_date = arrow.get(\"2016-12-06 23:59:59\")\n",
    "print(start_date, end_date)"
   ]
  },
  {
   "cell_type": "code",
   "execution_count": null,
   "metadata": {
    "collapsed": true
   },
   "outputs": [],
   "source": [
    "e1 = Entry(\n",
    "    when=timezone.now(), \n",
    "    what=\"something 4\", \n",
    "    quantity=2, \n",
    "    category=Entry.CATEGORIES.FOOD_CONSUMPTION, \n",
    "    measure=\"g\")\n",
    "e1.save()\n",
    "\n",
    "e2 = Entry(\n",
    "    when=timezone.now(), \n",
    "    what=\"something 4\", \n",
    "    quantity=2, \n",
    "    category=Entry.CATEGORIES.PHYSICAL_ACTIVITY, \n",
    "    measure=\"g\")\n",
    "\n",
    "e2.save()"
   ]
  },
  {
   "cell_type": "code",
   "execution_count": null,
   "metadata": {
    "collapsed": false
   },
   "outputs": [],
   "source": [
    "e1n1 = Nutrient.objects.create(\n",
    "    entry=e1,\n",
    "    category=Nutrient.CATEGORIES.INTAKE,\n",
    "    label=\"Energy\",\n",
    "    unit=\"kcal\",\n",
    "    quantity=140.5\n",
    ")\n",
    "\n",
    "e2n1 = Nutrient.objects.create(\n",
    "    entry=e1,\n",
    "    category=Nutrient.CATEGORIES.OUTTAKE,\n",
    "    label=\"Energy\",\n",
    "    unit=\"kcal\",\n",
    "    quantity=10.5\n",
    ")\n",
    "\n"
   ]
  },
  {
   "cell_type": "code",
   "execution_count": 6,
   "metadata": {
    "collapsed": false
   },
   "outputs": [
    {
     "data": {
      "text/plain": [
       "{datetime.date(2016, 11, 16): 0,\n",
       " datetime.date(2016, 11, 17): 0,\n",
       " datetime.date(2016, 11, 18): 0,\n",
       " datetime.date(2016, 11, 19): 0,\n",
       " datetime.date(2016, 11, 20): 0,\n",
       " datetime.date(2016, 11, 21): 0,\n",
       " datetime.date(2016, 11, 22): 0,\n",
       " datetime.date(2016, 11, 23): 0,\n",
       " datetime.date(2016, 11, 24): 0,\n",
       " datetime.date(2016, 11, 25): 0,\n",
       " datetime.date(2016, 11, 26): 0,\n",
       " datetime.date(2016, 11, 27): 0,\n",
       " datetime.date(2016, 11, 28): 0,\n",
       " datetime.date(2016, 11, 29): 0,\n",
       " datetime.date(2016, 11, 30): 90.0,\n",
       " datetime.date(2016, 12, 1): 28.0,\n",
       " datetime.date(2016, 12, 2): 0,\n",
       " datetime.date(2016, 12, 3): 0,\n",
       " datetime.date(2016, 12, 4): 0,\n",
       " datetime.date(2016, 12, 5): 0,\n",
       " datetime.date(2016, 12, 6): 0,\n",
       " datetime.date(2016, 12, 7): 0}"
      ]
     },
     "execution_count": 6,
     "metadata": {},
     "output_type": "execute_result"
    }
   ],
   "source": [
    "Nutrient.get_energy_report(\n",
    "    Nutrient.CATEGORIES.INTAKE, \n",
    "    timezone.make_aware(start_date.naive), \n",
    "    timezone.make_aware(arrow.utcnow().naive))"
   ]
  },
  {
   "cell_type": "code",
   "execution_count": 59,
   "metadata": {
    "collapsed": false
   },
   "outputs": [
    {
     "data": {
      "text/plain": [
       "[(datetime.date(2016, 11, 16), 0),\n",
       " (datetime.date(2016, 11, 17), 0),\n",
       " (datetime.date(2016, 11, 18), 0),\n",
       " (datetime.date(2016, 11, 19), 0),\n",
       " (datetime.date(2016, 11, 20), 0),\n",
       " (datetime.date(2016, 11, 21), 0),\n",
       " (datetime.date(2016, 11, 22), 0),\n",
       " (datetime.date(2016, 11, 23), 0),\n",
       " (datetime.date(2016, 11, 24), 0),\n",
       " (datetime.date(2016, 11, 25), 0),\n",
       " (datetime.date(2016, 11, 26), 0),\n",
       " (datetime.date(2016, 11, 27), 0),\n",
       " (datetime.date(2016, 11, 28), 0),\n",
       " (datetime.date(2016, 11, 29), 0),\n",
       " (datetime.date(2016, 11, 30), 0),\n",
       " (datetime.date(2016, 12, 1), 0),\n",
       " (datetime.date(2016, 12, 2), 1.32),\n",
       " (datetime.date(2016, 12, 3), 0),\n",
       " (datetime.date(2016, 12, 4), 0),\n",
       " (datetime.date(2016, 12, 5), 0),\n",
       " (datetime.date(2016, 12, 6), 12.5)]"
      ]
     },
     "execution_count": 59,
     "metadata": {},
     "output_type": "execute_result"
    }
   ],
   "source": [
    "report = Nutrient.get_energy_report(\n",
    "    Nutrient.CATEGORIES.OUTTAKE, \n",
    "    timezone.make_aware(start_date.naive), \n",
    "    timezone.make_aware(end_date.naive))\n",
    "\n",
    "sorted(report.items())"
   ]
  },
  {
   "cell_type": "code",
   "execution_count": 38,
   "metadata": {
    "collapsed": false
   },
   "outputs": [],
   "source": [
    "a = (end_date - start_date)"
   ]
  },
  {
   "cell_type": "code",
   "execution_count": 52,
   "metadata": {
    "collapsed": false
   },
   "outputs": [
    {
     "name": "stdout",
     "output_type": "stream",
     "text": [
      "SELECT \"entries_nutrient\".\"label\", \"entries_nutrient\".\"unit\", SUM(\"entries_nutrient\".\"quantity\") AS \"value\" FROM \"entries_nutrient\" GROUP BY \"entries_nutrient\".\"label\", \"entries_nutrient\".\"unit\"\n",
      "{'value': 13.82, 'unit': u'kcal', 'label': u'Energy'}\n",
      "{'value': 8.0, 'unit': u'mg', 'label': u'fat'}\n"
     ]
    }
   ],
   "source": [
    "records = Nutrient.objects.values(\"label\", \"unit\").annotate(value=Sum(\"quantity\"))\n",
    "print(records.query.__str__())\n",
    "for i in records:\n",
    "    print(i)\n"
   ]
  },
  {
   "cell_type": "code",
   "execution_count": 24,
   "metadata": {
    "collapsed": false
   },
   "outputs": [],
   "source": [
    "e2n1 = Nutrient.objects.create(\n",
    "    entry=e1,\n",
    "    category=Nutrient.CATEGORIES.OUTTAKE,\n",
    "    label=\"fat\",\n",
    "    unit=\"mg\",\n",
    "    quantity=3\n",
    ")\n"
   ]
  },
  {
   "cell_type": "code",
   "execution_count": 43,
   "metadata": {
    "collapsed": false
   },
   "outputs": [],
   "source": [
    "nutrients = Nutrient.objects.filter(\n",
    "        category=\"o\",\n",
    "        entry__when__range=[timezone.make_aware(start_date.naive), \n",
    "            timezone.make_aware(end_date.naive)]\n",
    "    ).values(\n",
    "        \"label\", \"unit\"\n",
    "    ).annotate(\n",
    "        value=Sum(\"quantity\")\n",
    "    )"
   ]
  },
  {
   "cell_type": "code",
   "execution_count": 42,
   "metadata": {
    "collapsed": false
   },
   "outputs": [
    {
     "data": {
      "text/plain": [
       "u'SELECT \"entries_nutrient\".\"label\", \"entries_nutrient\".\"unit\", SUM(\"entries_nutrient\".\"quantity\") AS \"value\" FROM \"entries_nutrient\" INNER JOIN \"entries_entry\" ON (\"entries_nutrient\".\"entry_id\" = \"entries_entry\".\"id\") WHERE (\"entries_nutrient\".\"category\" = o AND \"entries_entry\".\"when\" BETWEEN 2016-11-16 00:00:00 AND 2016-12-06 23:59:59) GROUP BY \"entries_nutrient\".\"label\", \"entries_nutrient\".\"unit\"'"
      ]
     },
     "execution_count": 42,
     "metadata": {},
     "output_type": "execute_result"
    }
   ],
   "source": [
    "nutrients.query.__str__()"
   ]
  },
  {
   "cell_type": "code",
   "execution_count": 13,
   "metadata": {
    "collapsed": false
   },
   "outputs": [
    {
     "name": "stdout",
     "output_type": "stream",
     "text": [
      "{'value': 6.2, 'unit': u'mg', 'label': u'(+)-Catechin'}\n",
      "{'value': 0.001, 'unit': u'g', 'label': u'10:0'}\n",
      "{'value': 0.002, 'unit': u'g', 'label': u'12:0'}\n",
      "{'value': 0.002, 'unit': u'g', 'label': u'14:0'}\n",
      "{'value': 0.128, 'unit': u'g', 'label': u'16:0'}\n",
      "{'value': 0.011, 'unit': u'g', 'label': u'16:1 undifferentiated'}\n",
      "{'value': 0.013999999999999999, 'unit': u'g', 'label': u'18:0'}\n",
      "{'value': 0.057999999999999996, 'unit': u'g', 'label': u'18:1 undifferentiated'}\n",
      "{'value': 0.14200000000000002, 'unit': u'g', 'label': u'18:2 undifferentiated'}\n",
      "{'value': 0.031, 'unit': u'g', 'label': u'18:3 undifferentiated'}\n",
      "{'value': 0.082, 'unit': u'g', 'label': u'Alanine'}\n",
      "{'value': 0.08499999999999999, 'unit': u'g', 'label': u'Arginine'}\n",
      "{'value': 1.45, 'unit': u'g', 'label': u'Ash'}\n",
      "{'value': 0.32899999999999996, 'unit': u'g', 'label': u'Aspartic acid'}\n",
      "{'value': 0.1, 'unit': u'mg', 'label': u'Betaine'}\n",
      "{'value': 21.0, 'unit': u'mg', 'label': u'Calcium, Ca'}\n",
      "{'value': 29.34, 'unit': u'g', 'label': u'Carbohydrate, by difference'}\n",
      "{'value': 121.0, 'unit': u'\\xb5g', 'label': u'Carotene, alpha'}\n",
      "{'value': 452.0, 'unit': u'\\xb5g', 'label': u'Carotene, beta'}\n",
      "{'value': 20.5, 'unit': u'mg', 'label': u'Choline, total'}\n",
      "{'value': 0.19, 'unit': u'mg', 'label': u'Copper, Cu'}\n",
      "{'value': 0.028999999999999998, 'unit': u'g', 'label': u'Cystine'}\n",
      "{'value': 492.0, 'unit': u'kJ', 'label': u'Energy'}\n",
      "{'value': 118.0, 'unit': u'kcal', 'label': u'Energy'}\n",
      "{'value': 0.069, 'unit': u'g', 'label': u'Fatty acids, total monounsaturated'}\n",
      "{'value': 0.174, 'unit': u'g', 'label': u'Fatty acids, total polyunsaturated'}\n",
      "{'value': 0.14700000000000002, 'unit': u'g', 'label': u'Fatty acids, total saturated'}\n",
      "{'value': 4.0, 'unit': u'g', 'label': u'Fiber, total dietary'}\n",
      "{'value': 2.2, 'unit': u'\\xb5g', 'label': u'Fluoride, F'}\n",
      "{'value': 31.0, 'unit': u'\\xb5g', 'label': u'Folate, DFE'}\n",
      "{'value': 31.0, 'unit': u'\\xb5g', 'label': u'Folate, food'}\n",
      "{'value': 31.0, 'unit': u'\\xb5g', 'label': u'Folate, total'}\n",
      "{'value': 4.9, 'unit': u'g', 'label': u'Fructose'}\n",
      "{'value': 5.03, 'unit': u'g', 'label': u'Glucose (dextrose)'}\n",
      "{'value': 0.6980000000000001, 'unit': u'g', 'label': u'Glutamic acid'}\n",
      "{'value': 0.075, 'unit': u'g', 'label': u'Glycine'}\n",
      "{'value': 0.1, 'unit': u'g', 'label': u'Histidine'}\n",
      "{'value': 0.89, 'unit': u'mg', 'label': u'Iron, Fe'}\n",
      "{'value': 0.064, 'unit': u'g', 'label': u'Isoleucine'}\n",
      "{'value': 0.1, 'unit': u'mg', 'label': u'Kaempferol'}\n",
      "{'value': 0.123, 'unit': u'g', 'label': u'Leucine'}\n",
      "{'value': 22.0, 'unit': u'\\xb5g', 'label': u'Lutein + zeaxanthin'}\n",
      "{'value': 0.105, 'unit': u'g', 'label': u'Lysine'}\n",
      "{'value': 39.0, 'unit': u'mg', 'label': u'Magnesium, Mg'}\n",
      "{'value': 0.01, 'unit': u'g', 'label': u'Maltose'}\n",
      "{'value': 0.396, 'unit': u'mg', 'label': u'Manganese, Mn'}\n",
      "{'value': 0.02, 'unit': u'g', 'label': u'Methionine'}\n",
      "{'value': 1.287, 'unit': u'mg', 'label': u'Niacin'}\n",
      "{'value': 0.952, 'unit': u'mg', 'label': u'Pantothenic acid'}\n",
      "{'value': 0.087, 'unit': u'g', 'label': u'Phenylalanine'}\n",
      "{'value': 56.0, 'unit': u'mg', 'label': u'Phosphorus, P'}\n",
      "{'value': 16.0, 'unit': u'mg', 'label': u'Phytosterols'}\n",
      "{'value': 613.0, 'unit': u'mg', 'label': u'Potassium, K'}\n",
      "{'value': 1.9, 'unit': u'mg', 'label': u'Proanthocyanidin 4-6mers'}\n",
      "{'value': 0.4, 'unit': u'mg', 'label': u'Proanthocyanidin dimers'}\n",
      "{'value': 0.4, 'unit': u'mg', 'label': u'Proanthocyanidin trimers'}\n",
      "{'value': 0.056, 'unit': u'g', 'label': u'Proline'}\n",
      "{'value': 2.58, 'unit': u'g', 'label': u'Protein'}\n",
      "{'value': 0.1, 'unit': u'mg', 'label': u'Quercetin'}\n",
      "{'value': 0.123, 'unit': u'mg', 'label': u'Riboflavin'}\n",
      "{'value': 1.5, 'unit': u'\\xb5g', 'label': u'Selenium, Se'}\n",
      "{'value': 0.079, 'unit': u'g', 'label': u'Serine'}\n",
      "{'value': 17.0, 'unit': u'mg', 'label': u'Sodium, Na'}\n",
      "{'value': 5.43, 'unit': u'g', 'label': u'Starch'}\n",
      "{'value': 2.41, 'unit': u'g', 'label': u'Sucrose'}\n",
      "{'value': 17.27, 'unit': u'g', 'label': u'Sugars, total'}\n",
      "{'value': 0.105, 'unit': u'mg', 'label': u'Thiamin'}\n",
      "{'value': 0.065, 'unit': u'g', 'label': u'Threonine'}\n",
      "{'value': 0.01, 'unit': u'mg', 'label': u'Tocopherol, delta'}\n",
      "{'value': 0.02, 'unit': u'mg', 'label': u'Tocopherol, gamma'}\n",
      "{'value': 0.5800000000000001, 'unit': u'g', 'label': u'Total lipid (fat)'}\n",
      "{'value': 0.019999999999999997, 'unit': u'g', 'label': u'Tryptophan'}\n",
      "{'value': 0.034999999999999996, 'unit': u'g', 'label': u'Tyrosine'}\n",
      "{'value': 0.08499999999999999, 'unit': u'g', 'label': u'Valine'}\n",
      "{'value': 855.0, 'unit': u'IU', 'label': u'Vitamin A, IU'}\n",
      "{'value': 42.0, 'unit': u'\\xb5g', 'label': u'Vitamin A, RAE'}\n",
      "{'value': 0.471, 'unit': u'mg', 'label': u'Vitamin B-6'}\n",
      "{'value': 37.6, 'unit': u'mg', 'label': u'Vitamin C, total ascorbic acid'}\n",
      "{'value': 0.57, 'unit': u'mg', 'label': u'Vitamin E (alpha-tocopherol)'}\n",
      "{'value': 12.9, 'unit': u'\\xb5g', 'label': u'Vitamin K (phylloquinone)'}\n",
      "{'value': 190.05, 'unit': u'g', 'label': u'Water'}\n",
      "{'value': 0.24, 'unit': u'mg', 'label': u'Zinc, Zn'}\n"
     ]
    }
   ],
   "source": [
    "nutrients = Nutrient.get_nutrients_report(\n",
    "    timezone.make_aware(start_date.naive), \n",
    "    timezone.make_aware(end_date.naive))\n",
    "\n",
    "for i in nutrients:\n",
    "    print(i)"
   ]
  },
  {
   "cell_type": "markdown",
   "metadata": {},
   "source": [
    "### Recommended Nutrients"
   ]
  },
  {
   "cell_type": "code",
   "execution_count": 23,
   "metadata": {
    "collapsed": true
   },
   "outputs": [],
   "source": [
    "import pandas as pd"
   ]
  },
  {
   "cell_type": "code",
   "execution_count": 46,
   "metadata": {
    "collapsed": false
   },
   "outputs": [
    {
     "data": {
      "text/html": [
       "<div>\n",
       "<table border=\"1\" class=\"dataframe\">\n",
       "  <thead>\n",
       "    <tr style=\"text-align: right;\">\n",
       "      <th></th>\n",
       "      <th>0</th>\n",
       "      <th>1</th>\n",
       "      <th>2</th>\n",
       "      <th>3</th>\n",
       "      <th>4</th>\n",
       "      <th>5</th>\n",
       "    </tr>\n",
       "  </thead>\n",
       "  <tbody>\n",
       "    <tr>\n",
       "      <th>0</th>\n",
       "      <td>Total fat</td>\n",
       "      <td>g</td>\n",
       "      <td>65</td>\n",
       "      <td>Total lipid (fat)</td>\n",
       "      <td>Proximates</td>\n",
       "      <td>g</td>\n",
       "    </tr>\n",
       "    <tr>\n",
       "      <th>1</th>\n",
       "      <td>Saturated fatty acids</td>\n",
       "      <td>g</td>\n",
       "      <td>20</td>\n",
       "      <td>Fatty acids, total saturated</td>\n",
       "      <td>Lipids</td>\n",
       "      <td>g</td>\n",
       "    </tr>\n",
       "    <tr>\n",
       "      <th>2</th>\n",
       "      <td>Cholesterol</td>\n",
       "      <td>mg</td>\n",
       "      <td>300</td>\n",
       "      <td>Cholesterol</td>\n",
       "      <td>Proximates</td>\n",
       "      <td>mg</td>\n",
       "    </tr>\n",
       "    <tr>\n",
       "      <th>3</th>\n",
       "      <td>Sodium</td>\n",
       "      <td>mg</td>\n",
       "      <td>2,400</td>\n",
       "      <td>Sodium, Na</td>\n",
       "      <td>Minerals</td>\n",
       "      <td>mg</td>\n",
       "    </tr>\n",
       "    <tr>\n",
       "      <th>4</th>\n",
       "      <td>Potassium</td>\n",
       "      <td>mg</td>\n",
       "      <td>3,500</td>\n",
       "      <td>Potassium, K</td>\n",
       "      <td>Minerals</td>\n",
       "      <td>mg</td>\n",
       "    </tr>\n",
       "    <tr>\n",
       "      <th>5</th>\n",
       "      <td>Total carbohydrate</td>\n",
       "      <td>g</td>\n",
       "      <td>300</td>\n",
       "      <td>Carbohydrate, by difference</td>\n",
       "      <td>Proximates</td>\n",
       "      <td>g</td>\n",
       "    </tr>\n",
       "    <tr>\n",
       "      <th>6</th>\n",
       "      <td>Fiber</td>\n",
       "      <td>g</td>\n",
       "      <td>25</td>\n",
       "      <td>Fiber, total dietary</td>\n",
       "      <td>Proximates</td>\n",
       "      <td>g</td>\n",
       "    </tr>\n",
       "    <tr>\n",
       "      <th>7</th>\n",
       "      <td>Protein</td>\n",
       "      <td>g</td>\n",
       "      <td>50</td>\n",
       "      <td>Protein</td>\n",
       "      <td>Proximates</td>\n",
       "      <td>g</td>\n",
       "    </tr>\n",
       "    <tr>\n",
       "      <th>8</th>\n",
       "      <td>Vitamin A</td>\n",
       "      <td>IU</td>\n",
       "      <td>5,000</td>\n",
       "      <td>Vitamin A, IU</td>\n",
       "      <td>Vitamins</td>\n",
       "      <td>IU</td>\n",
       "    </tr>\n",
       "    <tr>\n",
       "      <th>9</th>\n",
       "      <td>Vitamin C</td>\n",
       "      <td>mg</td>\n",
       "      <td>60</td>\n",
       "      <td>Vitamin C, total ascorbic acid</td>\n",
       "      <td>Vitamins</td>\n",
       "      <td>mg</td>\n",
       "    </tr>\n",
       "    <tr>\n",
       "      <th>10</th>\n",
       "      <td>Calcium</td>\n",
       "      <td>mg</td>\n",
       "      <td>1,000</td>\n",
       "      <td>Calcium, Ca</td>\n",
       "      <td>Minerals</td>\n",
       "      <td>mg</td>\n",
       "    </tr>\n",
       "    <tr>\n",
       "      <th>11</th>\n",
       "      <td>Iron</td>\n",
       "      <td>mg</td>\n",
       "      <td>18</td>\n",
       "      <td>Iron, Fe</td>\n",
       "      <td>Minerals</td>\n",
       "      <td>mg</td>\n",
       "    </tr>\n",
       "    <tr>\n",
       "      <th>12</th>\n",
       "      <td>Vitamin D</td>\n",
       "      <td>IU</td>\n",
       "      <td>400</td>\n",
       "      <td>Vitamin D</td>\n",
       "      <td>Vitamins</td>\n",
       "      <td>IU</td>\n",
       "    </tr>\n",
       "    <tr>\n",
       "      <th>13</th>\n",
       "      <td>Vitamin E</td>\n",
       "      <td>mg</td>\n",
       "      <td>20</td>\n",
       "      <td>Vitamin E (alpha-tocopherol)</td>\n",
       "      <td>Vitamins</td>\n",
       "      <td>mg</td>\n",
       "    </tr>\n",
       "    <tr>\n",
       "      <th>14</th>\n",
       "      <td>Vitamin K</td>\n",
       "      <td>µg</td>\n",
       "      <td>80</td>\n",
       "      <td>Vitamin K (phylloquinone)</td>\n",
       "      <td>Vitamins</td>\n",
       "      <td>µg</td>\n",
       "    </tr>\n",
       "    <tr>\n",
       "      <th>15</th>\n",
       "      <td>Thiamin</td>\n",
       "      <td>mg</td>\n",
       "      <td>1.5</td>\n",
       "      <td>Thiamin</td>\n",
       "      <td>Vitamins</td>\n",
       "      <td>mg</td>\n",
       "    </tr>\n",
       "    <tr>\n",
       "      <th>16</th>\n",
       "      <td>Riboflavin</td>\n",
       "      <td>mg</td>\n",
       "      <td>1.7</td>\n",
       "      <td>Riboflavin</td>\n",
       "      <td>Vitamins</td>\n",
       "      <td>mg</td>\n",
       "    </tr>\n",
       "    <tr>\n",
       "      <th>17</th>\n",
       "      <td>Niacin</td>\n",
       "      <td>mg</td>\n",
       "      <td>20</td>\n",
       "      <td>Niacin</td>\n",
       "      <td>Vitamins</td>\n",
       "      <td>mg</td>\n",
       "    </tr>\n",
       "    <tr>\n",
       "      <th>18</th>\n",
       "      <td>Vitamin B6</td>\n",
       "      <td>mg</td>\n",
       "      <td>2</td>\n",
       "      <td>Vitamin B-6</td>\n",
       "      <td>Vitamins</td>\n",
       "      <td>mg</td>\n",
       "    </tr>\n",
       "    <tr>\n",
       "      <th>19</th>\n",
       "      <td>Folate</td>\n",
       "      <td>µg</td>\n",
       "      <td>400</td>\n",
       "      <td>Folate, DFE</td>\n",
       "      <td>Vitamins</td>\n",
       "      <td>µg</td>\n",
       "    </tr>\n",
       "    <tr>\n",
       "      <th>20</th>\n",
       "      <td>Vitamin B12</td>\n",
       "      <td>µg</td>\n",
       "      <td>6</td>\n",
       "      <td>Vitamin B-12</td>\n",
       "      <td>Vitamins</td>\n",
       "      <td>µg</td>\n",
       "    </tr>\n",
       "    <tr>\n",
       "      <th>21</th>\n",
       "      <td>Phosphorus</td>\n",
       "      <td>mg</td>\n",
       "      <td>1,000</td>\n",
       "      <td>Phosphorus, P</td>\n",
       "      <td>Minerals</td>\n",
       "      <td>mg</td>\n",
       "    </tr>\n",
       "    <tr>\n",
       "      <th>22</th>\n",
       "      <td>Magnesium</td>\n",
       "      <td>mg</td>\n",
       "      <td>400</td>\n",
       "      <td>Magnesium, Mg</td>\n",
       "      <td>Minerals</td>\n",
       "      <td>mg</td>\n",
       "    </tr>\n",
       "    <tr>\n",
       "      <th>23</th>\n",
       "      <td>Zinc</td>\n",
       "      <td>mg</td>\n",
       "      <td>15</td>\n",
       "      <td>Zinc, Zn</td>\n",
       "      <td>Minerals</td>\n",
       "      <td>mg</td>\n",
       "    </tr>\n",
       "    <tr>\n",
       "      <th>24</th>\n",
       "      <td>Copper</td>\n",
       "      <td>mg</td>\n",
       "      <td>2</td>\n",
       "      <td>Copper, Cu</td>\n",
       "      <td>Minerals</td>\n",
       "      <td>mg</td>\n",
       "    </tr>\n",
       "    <tr>\n",
       "      <th>25</th>\n",
       "      <td>Manganese</td>\n",
       "      <td>mg</td>\n",
       "      <td>2</td>\n",
       "      <td>Manganese, Mn</td>\n",
       "      <td>Minerals</td>\n",
       "      <td>mg</td>\n",
       "    </tr>\n",
       "  </tbody>\n",
       "</table>\n",
       "</div>"
      ],
      "text/plain": [
       "                        0   1      2                               3  \\\n",
       "0               Total fat   g     65               Total lipid (fat)   \n",
       "1   Saturated fatty acids   g     20    Fatty acids, total saturated   \n",
       "2             Cholesterol  mg    300                     Cholesterol   \n",
       "3                  Sodium  mg  2,400                      Sodium, Na   \n",
       "4               Potassium  mg  3,500                    Potassium, K   \n",
       "5      Total carbohydrate   g    300     Carbohydrate, by difference   \n",
       "6                   Fiber   g     25            Fiber, total dietary   \n",
       "7                 Protein   g     50                         Protein   \n",
       "8               Vitamin A  IU  5,000                   Vitamin A, IU   \n",
       "9               Vitamin C  mg     60  Vitamin C, total ascorbic acid   \n",
       "10                Calcium  mg  1,000                     Calcium, Ca   \n",
       "11                   Iron  mg     18                        Iron, Fe   \n",
       "12              Vitamin D  IU    400                       Vitamin D   \n",
       "13              Vitamin E  mg     20    Vitamin E (alpha-tocopherol)   \n",
       "14              Vitamin K  µg     80       Vitamin K (phylloquinone)   \n",
       "15                Thiamin  mg    1.5                         Thiamin   \n",
       "16             Riboflavin  mg    1.7                      Riboflavin   \n",
       "17                 Niacin  mg     20                          Niacin   \n",
       "18             Vitamin B6  mg      2                     Vitamin B-6   \n",
       "19                 Folate  µg    400                     Folate, DFE   \n",
       "20            Vitamin B12  µg      6                    Vitamin B-12   \n",
       "21             Phosphorus  mg  1,000                   Phosphorus, P   \n",
       "22              Magnesium  mg    400                   Magnesium, Mg   \n",
       "23                   Zinc  mg     15                        Zinc, Zn   \n",
       "24                 Copper  mg      2                      Copper, Cu   \n",
       "25              Manganese  mg      2                   Manganese, Mn   \n",
       "\n",
       "             4   5  \n",
       "0   Proximates   g  \n",
       "1       Lipids   g  \n",
       "2   Proximates  mg  \n",
       "3     Minerals  mg  \n",
       "4     Minerals  mg  \n",
       "5   Proximates   g  \n",
       "6   Proximates   g  \n",
       "7   Proximates   g  \n",
       "8     Vitamins  IU  \n",
       "9     Vitamins  mg  \n",
       "10    Minerals  mg  \n",
       "11    Minerals  mg  \n",
       "12    Vitamins  IU  \n",
       "13    Vitamins  mg  \n",
       "14    Vitamins  µg  \n",
       "15    Vitamins  mg  \n",
       "16    Vitamins  mg  \n",
       "17    Vitamins  mg  \n",
       "18    Vitamins  mg  \n",
       "19    Vitamins  µg  \n",
       "20    Vitamins  µg  \n",
       "21    Minerals  mg  \n",
       "22    Minerals  mg  \n",
       "23    Minerals  mg  \n",
       "24    Minerals  mg  \n",
       "25    Minerals  mg  "
      ]
     },
     "execution_count": 46,
     "metadata": {},
     "output_type": "execute_result"
    }
   ],
   "source": [
    "pd.read_csv(\"/Users/muatik/Downloads/nutrients.csv\", header=None)"
   ]
  },
  {
   "cell_type": "code",
   "execution_count": 30,
   "metadata": {
    "collapsed": false
   },
   "outputs": [],
   "source": [
    "d = pd.read_csv(\"/Users/muatik/Downloads/nutrients.csv\", header=None)\n",
    "d = d.to_dict()"
   ]
  },
  {
   "cell_type": "code",
   "execution_count": 44,
   "metadata": {
    "collapsed": false
   },
   "outputs": [],
   "source": [
    "data = []\n",
    "for i in range(len(d[0])):\n",
    "    data.append({\n",
    "        \"label\": d[0][i], \n",
    "        \"unit\": d[1][i], \n",
    "        \"amount\": d[2][i], \n",
    "        \"usda_label\": d[3][i], \n",
    "        \"usda_category\": d[4][i]})"
   ]
  },
  {
   "cell_type": "code",
   "execution_count": 42,
   "metadata": {
    "collapsed": false
   },
   "outputs": [],
   "source": [
    "data = {\n",
    "    \"headers\": [\n",
    "        \"label\",\n",
    "        \"unit\",\n",
    "        \"amount\",\n",
    "        \"usda_label\",\n",
    "        \"usda_category\"\n",
    "    ],\n",
    "    \"labels\": data\n",
    "}"
   ]
  },
  {
   "cell_type": "code",
   "execution_count": 45,
   "metadata": {
    "collapsed": false,
    "scrolled": false
   },
   "outputs": [
    {
     "data": {
      "text/plain": [
       "[{'amount': '65',\n",
       "  'label': 'Total fat',\n",
       "  'unit': 'g',\n",
       "  'usda_category': 'Proximates',\n",
       "  'usda_label': 'Total lipid (fat)'},\n",
       " {'amount': '20',\n",
       "  'label': 'Saturated fatty acids',\n",
       "  'unit': 'g',\n",
       "  'usda_category': 'Lipids',\n",
       "  'usda_label': 'Fatty acids, total saturated'},\n",
       " {'amount': '300',\n",
       "  'label': 'Cholesterol',\n",
       "  'unit': 'mg',\n",
       "  'usda_category': 'Proximates',\n",
       "  'usda_label': 'Cholesterol'},\n",
       " {'amount': '2,400',\n",
       "  'label': 'Sodium',\n",
       "  'unit': 'mg',\n",
       "  'usda_category': 'Minerals',\n",
       "  'usda_label': 'Sodium, Na'},\n",
       " {'amount': '3,500',\n",
       "  'label': 'Potassium',\n",
       "  'unit': 'mg',\n",
       "  'usda_category': 'Minerals',\n",
       "  'usda_label': 'Potassium, K'},\n",
       " {'amount': '300',\n",
       "  'label': 'Total carbohydrate',\n",
       "  'unit': 'g',\n",
       "  'usda_category': 'Proximates',\n",
       "  'usda_label': 'Carbohydrate, by difference'},\n",
       " {'amount': '25',\n",
       "  'label': 'Fiber',\n",
       "  'unit': 'g',\n",
       "  'usda_category': 'Proximates',\n",
       "  'usda_label': 'Fiber, total dietary'},\n",
       " {'amount': '50',\n",
       "  'label': 'Protein',\n",
       "  'unit': 'g',\n",
       "  'usda_category': 'Proximates',\n",
       "  'usda_label': 'Protein'},\n",
       " {'amount': '5,000',\n",
       "  'label': 'Vitamin A',\n",
       "  'unit': 'IU',\n",
       "  'usda_category': 'Vitamins',\n",
       "  'usda_label': 'Vitamin A, IU'},\n",
       " {'amount': '60',\n",
       "  'label': 'Vitamin C',\n",
       "  'unit': 'mg',\n",
       "  'usda_category': 'Vitamins',\n",
       "  'usda_label': 'Vitamin C, total ascorbic acid'},\n",
       " {'amount': '1,000',\n",
       "  'label': 'Calcium',\n",
       "  'unit': 'mg',\n",
       "  'usda_category': 'Minerals',\n",
       "  'usda_label': 'Calcium, Ca'},\n",
       " {'amount': '18',\n",
       "  'label': 'Iron',\n",
       "  'unit': 'mg',\n",
       "  'usda_category': 'Minerals',\n",
       "  'usda_label': 'Iron, Fe'},\n",
       " {'amount': '400',\n",
       "  'label': 'Vitamin D',\n",
       "  'unit': 'IU',\n",
       "  'usda_category': 'Vitamins',\n",
       "  'usda_label': 'Vitamin D'},\n",
       " {'amount': '20',\n",
       "  'label': 'Vitamin E',\n",
       "  'unit': 'mg',\n",
       "  'usda_category': 'Vitamins',\n",
       "  'usda_label': 'Vitamin E (alpha-tocopherol)'},\n",
       " {'amount': '80',\n",
       "  'label': 'Vitamin K',\n",
       "  'unit': '\\xc2\\xb5g',\n",
       "  'usda_category': 'Vitamins',\n",
       "  'usda_label': 'Vitamin K (phylloquinone)'},\n",
       " {'amount': '1.5',\n",
       "  'label': 'Thiamin',\n",
       "  'unit': 'mg',\n",
       "  'usda_category': 'Vitamins',\n",
       "  'usda_label': 'Thiamin'},\n",
       " {'amount': '1.7',\n",
       "  'label': 'Riboflavin',\n",
       "  'unit': 'mg',\n",
       "  'usda_category': 'Vitamins',\n",
       "  'usda_label': 'Riboflavin'},\n",
       " {'amount': '20',\n",
       "  'label': 'Niacin',\n",
       "  'unit': 'mg',\n",
       "  'usda_category': 'Vitamins',\n",
       "  'usda_label': 'Niacin'},\n",
       " {'amount': '2',\n",
       "  'label': 'Vitamin B6',\n",
       "  'unit': 'mg',\n",
       "  'usda_category': 'Vitamins',\n",
       "  'usda_label': 'Vitamin B-6'},\n",
       " {'amount': '400',\n",
       "  'label': 'Folate',\n",
       "  'unit': '\\xc2\\xb5g',\n",
       "  'usda_category': 'Vitamins',\n",
       "  'usda_label': 'Folate, DFE'},\n",
       " {'amount': '6',\n",
       "  'label': 'Vitamin B12',\n",
       "  'unit': '\\xc2\\xb5g',\n",
       "  'usda_category': 'Vitamins',\n",
       "  'usda_label': 'Vitamin B-12'},\n",
       " {'amount': '1,000',\n",
       "  'label': 'Phosphorus',\n",
       "  'unit': 'mg',\n",
       "  'usda_category': 'Minerals',\n",
       "  'usda_label': 'Phosphorus, P'},\n",
       " {'amount': '400',\n",
       "  'label': 'Magnesium',\n",
       "  'unit': 'mg',\n",
       "  'usda_category': 'Minerals',\n",
       "  'usda_label': 'Magnesium, Mg'},\n",
       " {'amount': '15',\n",
       "  'label': 'Zinc',\n",
       "  'unit': 'mg',\n",
       "  'usda_category': 'Minerals',\n",
       "  'usda_label': 'Zinc, Zn'},\n",
       " {'amount': '2',\n",
       "  'label': 'Copper',\n",
       "  'unit': 'mg',\n",
       "  'usda_category': 'Minerals',\n",
       "  'usda_label': 'Copper, Cu'},\n",
       " {'amount': '2',\n",
       "  'label': 'Manganese',\n",
       "  'unit': 'mg',\n",
       "  'usda_category': 'Minerals',\n",
       "  'usda_label': 'Manganese, Mn'}]"
      ]
     },
     "execution_count": 45,
     "metadata": {},
     "output_type": "execute_result"
    }
   ],
   "source": [
    "data"
   ]
  },
  {
   "cell_type": "markdown",
   "metadata": {},
   "source": [
    "## User management"
   ]
  },
  {
   "cell_type": "code",
   "execution_count": 5,
   "metadata": {
    "collapsed": false
   },
   "outputs": [],
   "source": [
    "from django.contrib.auth.models import User\n",
    "from entries.models import UserProfile"
   ]
  },
  {
   "cell_type": "code",
   "execution_count": 32,
   "metadata": {
    "collapsed": false
   },
   "outputs": [],
   "source": [
    "u = User(email=\"muatik@gmail.com\", first_name=\"mustafa\")\n",
    "u.save()\n"
   ]
  },
  {
   "cell_type": "code",
   "execution_count": 58,
   "metadata": {
    "collapsed": false
   },
   "outputs": [],
   "source": [
    "u.userprofile = UserProfile(height=176, birth_date=timezone.make_aware(arrow.utcnow().naive))\n",
    "u.userprofile.gender = UserProfile.MALE\n",
    "u.userprofile.save()"
   ]
  },
  {
   "cell_type": "code",
   "execution_count": 59,
   "metadata": {
    "collapsed": false
   },
   "outputs": [],
   "source": [
    "u.last_name = \"atik\"\n",
    "u.save()"
   ]
  },
  {
   "cell_type": "code",
   "execution_count": 6,
   "metadata": {
    "collapsed": false
   },
   "outputs": [],
   "source": [
    "u = User.objects.all()[0]"
   ]
  },
  {
   "cell_type": "code",
   "execution_count": 8,
   "metadata": {
    "collapsed": false
   },
   "outputs": [],
   "source": [
    "q, d = Nutrient.get_energy_report(u, \"i\", \n",
    "                        timezone.make_aware(start_date.naive), \n",
    "                        timezone.make_aware(end_date.naive))"
   ]
  },
  {
   "cell_type": "code",
   "execution_count": 9,
   "metadata": {
    "collapsed": false
   },
   "outputs": [
    {
     "data": {
      "text/plain": [
       "u'SELECT \"entries_entry\".\"when\", django_datetime_cast_date(\"entries_entry\".\"when\", UTC) AS \"date\", SUM(\"entries_nutrient\".\"quantity\") AS \"value\" FROM \"entries_nutrient\" INNER JOIN \"entries_entry\" ON (\"entries_nutrient\".\"entry_id\" = \"entries_entry\".\"id\") WHERE (\"entries_nutrient\".\"category\" = i AND \"entries_entry\".\"user_id\" = 1 AND \"entries_entry\".\"when\" BETWEEN 2016-11-16 00:00:00 AND 2016-12-06 23:59:59 AND \"entries_nutrient\".\"unit\" = kcal AND \"entries_nutrient\".\"label\" = Energy) GROUP BY django_datetime_cast_date(\"entries_entry\".\"when\", UTC), \"entries_entry\".\"when\"'"
      ]
     },
     "execution_count": 9,
     "metadata": {},
     "output_type": "execute_result"
    }
   ],
   "source": [
    "q.query.__str__()"
   ]
  },
  {
   "cell_type": "code",
   "execution_count": 23,
   "metadata": {
    "collapsed": false
   },
   "outputs": [
    {
     "data": {
      "text/plain": [
       "{'quantity__sum': None}"
      ]
     },
     "execution_count": 23,
     "metadata": {},
     "output_type": "execute_result"
    }
   ],
   "source": [
    "Nutrient.objects.filter(\n",
    "            entry=Entry.objects.get(id=33),\n",
    "            label=\"Energy\",\n",
    "            unit=\"kcal\",\n",
    "            category=Nutrient.CATEGORIES.OUTTAKE\n",
    "        ).aggregate(Sum(\"quantity\"))"
   ]
  },
  {
   "cell_type": "code",
   "execution_count": 66,
   "metadata": {
    "collapsed": false
   },
   "outputs": [
    {
     "data": {
      "text/plain": [
       "[]"
      ]
     },
     "execution_count": 66,
     "metadata": {},
     "output_type": "execute_result"
    }
   ],
   "source": []
  },
  {
   "cell_type": "code",
   "execution_count": null,
   "metadata": {
    "collapsed": true
   },
   "outputs": [],
   "source": []
  }
 ],
 "metadata": {
  "kernelspec": {
   "display_name": "Python 3",
   "language": "python",
   "name": "python3"
  },
  "language_info": {
   "codemirror_mode": {
    "name": "ipython",
    "version": 3
   },
   "file_extension": ".py",
   "mimetype": "text/x-python",
   "name": "python",
   "nbconvert_exporter": "python",
   "pygments_lexer": "ipython3",
   "version": "3.5.0"
  }
 },
 "nbformat": 4,
 "nbformat_minor": 1
}
